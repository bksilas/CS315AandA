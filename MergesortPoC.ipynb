{
  "nbformat": 4,
  "nbformat_minor": 0,
  "metadata": {
    "colab": {
      "provenance": [],
      "include_colab_link": true
    },
    "kernelspec": {
      "name": "python3",
      "display_name": "Python 3"
    },
    "language_info": {
      "name": "python"
    }
  },
  "cells": [
    {
      "cell_type": "markdown",
      "metadata": {
        "id": "view-in-github",
        "colab_type": "text"
      },
      "source": [
        "<a href=\"https://colab.research.google.com/github/bksilas/CS315AandA/blob/main/MergesortPoC.ipynb\" target=\"_parent\"><img src=\"https://colab.research.google.com/assets/colab-badge.svg\" alt=\"Open In Colab\"/></a>"
      ]
    },
    {
      "cell_type": "code",
      "execution_count": 80,
      "metadata": {
        "id": "t_LwP80OmwFK"
      },
      "outputs": [],
      "source": [
        "# Template for testing Insertion-Sort on small lists, outputing each intermediate step"
      ]
    },
    {
      "cell_type": "code",
      "source": [
        "import random\n",
        "import datetime"
      ],
      "metadata": {
        "id": "LMcLd_etm-0Y"
      },
      "execution_count": 81,
      "outputs": []
    },
    {
      "cell_type": "code",
      "source": [
        "# Merge provided as a convenience\n",
        "\n",
        "def Merge(A,p,q,r):\n",
        "    nL = q-p+1\n",
        "    nR = r-q\n",
        "    Left = []\n",
        "    Right = []\n",
        "\n",
        "    for i in range(nL):\n",
        "        Left.append(A[p+i])\n",
        "    for j in range(nR):\n",
        "        Right.append(A[q+j+1])\n",
        "\n",
        "    i=0\n",
        "    j=0\n",
        "    k=p\n",
        "    while i<nL and j<nR:\n",
        "        if (Left[i]<=Right[j]):\n",
        "            A[k]=Left[i]\n",
        "            i+=1\n",
        "        else:\n",
        "            A[k]=Right[j]\n",
        "            j+=1\n",
        "        k+=1\n",
        "\n",
        "    while i< nL:\n",
        "        A[k]=Left[i]\n",
        "        i+=1\n",
        "        k+=1\n",
        "    while j< nR:\n",
        "        A[k]=Right[j]\n",
        "        j+=1\n",
        "        k+=1\n",
        "\n",
        "    return"
      ],
      "metadata": {
        "id": "TyWIYm1_nIYR"
      },
      "execution_count": 82,
      "outputs": []
    },
    {
      "cell_type": "code",
      "source": [
        "def Mergesort(A,p,r,print_flag):\n",
        "    if p >= r:\n",
        "        return\n",
        "    q = (p+r)//2\n",
        "\n",
        "    # Modify the following three calls:\n",
        "    Mergesort(A,p,q,False)\n",
        "    Mergesort(A,q+1,r,False)\n",
        "    Merge(A,p,q,r)\n",
        "\n",
        "    if print_flag:\n",
        "      print(A)\n",
        "    return"
      ],
      "metadata": {
        "id": "neX-YNcPnLpk"
      },
      "execution_count": 83,
      "outputs": []
    },
    {
      "cell_type": "code",
      "source": [
        "#Exctution Code for 5a\n",
        "#Algorihms and Analysis\n",
        "#Silas Barr 9/28/2025\n",
        "\n",
        "for i in range(2,8):\n",
        "  n = pow(10,i)\n",
        "  U = list(range(n))\n",
        "\n",
        "  random.shuffle(U)\n",
        "\n",
        "\n",
        "\n",
        "  start_time = datetime.datetime.now()\n",
        "\n",
        "  Mergesort(U,0,n-1,False)\n",
        "\n",
        "  end_time = datetime.datetime.now()\n",
        "  elapsed_time = (end_time - start_time).total_seconds()\n",
        "  print(n, elapsed_time)\n",
        "\n",
        "\n",
        "# Analysis:\n",
        "# using the runing_time/(n*(log(n)/log(2)))\n",
        "# I got around 0.0000002157582482 for each case\n",
        "# Which proves that this Merge sort is O(n lg n)"
      ],
      "metadata": {
        "colab": {
          "base_uri": "https://localhost:8080/"
        },
        "id": "Huy1_Zgouel0",
        "outputId": "8f911aa4-151c-4308-fe04-24f8d44b0c07"
      },
      "execution_count": 89,
      "outputs": [
        {
          "output_type": "stream",
          "name": "stdout",
          "text": [
            "100 0.000172\n",
            "1000 0.001625\n",
            "10000 0.023614\n",
            "100000 0.277915\n",
            "1000000 4.766035\n",
            "10000000 67.075014\n"
          ]
        }
      ]
    },
    {
      "cell_type": "code",
      "source": [
        "#Exctution Code for 5b\n",
        "#Algorihms and Analysis\n",
        "#Silas Barr 9/28/2025\n",
        "\n",
        "for j in range(2,8):\n",
        "\n",
        "  m = pow(10,j)#enables us to increase n by magnitues each iteration\n",
        "  S = list(range(m))\n",
        "\n",
        "\n",
        "\n",
        "  start_time = datetime.datetime.now()\n",
        "\n",
        "  Mergesort(S,0,m-1, False)\n",
        "\n",
        "  end_time = datetime.datetime.now()\n",
        "  elapsed_time = (end_time - start_time).total_seconds()\n",
        "\n",
        "  print(m,\",\", elapsed_time)\n",
        "\n",
        "# Analysis:\n",
        "# using the runing_time/(n*(log(n)/log(2)))\n",
        "# I got around 0.0000001890622684 for each case\n",
        "# Which proves that this merge sort is  still O(n lg n)"
      ],
      "metadata": {
        "id": "CJnxw8RICahn",
        "outputId": "f729f6ff-2417-4389-b686-8852be83f352",
        "colab": {
          "base_uri": "https://localhost:8080/"
        }
      },
      "execution_count": 88,
      "outputs": [
        {
          "output_type": "stream",
          "name": "stdout",
          "text": [
            "100 , 0.000355\n",
            "1000 , 0.001424\n",
            "10000 , 0.017901\n",
            "100000 , 0.233599\n",
            "1000000 , 3.077406\n",
            "10000000 , 30.421213\n"
          ]
        }
      ]
    },
    {
      "cell_type": "code",
      "source": [
        "N=8\n",
        "A = list(range(N))\n",
        "\n",
        "random.shuffle(A)\n",
        "\n",
        "print(A)\n",
        "Mergesort(A,0,N-1,False)\n",
        "print(A)"
      ],
      "metadata": {
        "colab": {
          "base_uri": "https://localhost:8080/"
        },
        "id": "RVXFjLS0nCeo",
        "outputId": "81e5c8b1-2fe3-4c3d-e4de-cca47e406441"
      },
      "execution_count": 85,
      "outputs": [
        {
          "output_type": "stream",
          "name": "stdout",
          "text": [
            "[4, 7, 2, 3, 1, 0, 6, 5]\n",
            "[0, 1, 2, 3, 4, 5, 6, 7]\n"
          ]
        }
      ]
    }
  ]
}