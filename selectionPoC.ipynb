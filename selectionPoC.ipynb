{
  "nbformat": 4,
  "nbformat_minor": 0,
  "metadata": {
    "colab": {
      "provenance": [],
      "include_colab_link": true
    },
    "kernelspec": {
      "name": "python3",
      "display_name": "Python 3"
    },
    "language_info": {
      "name": "python"
    }
  },
  "cells": [
    {
      "cell_type": "markdown",
      "metadata": {
        "id": "view-in-github",
        "colab_type": "text"
      },
      "source": [
        "<a href=\"https://colab.research.google.com/github/bksilas/CS315AandA/blob/main/selectionPoC.ipynb\" target=\"_parent\"><img src=\"https://colab.research.google.com/assets/colab-badge.svg\" alt=\"Open In Colab\"/></a>"
      ]
    },
    {
      "cell_type": "code",
      "execution_count": 12,
      "metadata": {
        "id": "tZGwopH4Y7oL"
      },
      "outputs": [],
      "source": [
        "# Template for testing Selection Sort on small lists, outputing each intermediate step"
      ]
    },
    {
      "cell_type": "code",
      "source": [
        "import random\n",
        "import datetime"
      ],
      "metadata": {
        "id": "fSME9MywceAq"
      },
      "execution_count": 13,
      "outputs": []
    },
    {
      "cell_type": "code",
      "source": [
        "def selection(A,print_flag):\n",
        "\n",
        "  for i in range(0,len(A)-1):\n",
        "    small = i\n",
        "    for j in range(i,len(A)):\n",
        "      if(A[small] > A[j]):\n",
        "        small = j\n",
        "    temp = A[j]\n",
        "    A[j] = A[i]\n",
        "    A[i] = temp\n",
        "\n",
        "\n",
        "\n",
        "\n",
        "\n",
        "\n",
        "# for your convenience, the psuedocode from class is provided, and note that you don't really need line 1, you can handle that in the outer for loop statement\n",
        "#n = length[A]\n",
        "#for i=1 to n-1:\n",
        "#   smallest = i\n",
        "#   for j=i+1 to n:\n",
        "#      if A[smallest] > A[j]\n",
        "#         then smallest = j\n",
        "#   Swap A[i] with A[smallest]"
      ],
      "metadata": {
        "id": "TJZL4jFQZhAp"
      },
      "execution_count": 14,
      "outputs": []
    },
    {
      "cell_type": "code",
      "source": [
        "N=8\n",
        "A = list(range(N))\n",
        "\n",
        "random.shuffle(A)\n",
        "\n",
        "print(A)\n",
        "selection(A,True)\n",
        "print(A)"
      ],
      "metadata": {
        "id": "f1GS3NjwZqmS",
        "colab": {
          "base_uri": "https://localhost:8080/"
        },
        "outputId": "53c2f0ff-a2e7-4a0f-861a-0063cdf74829"
      },
      "execution_count": 15,
      "outputs": [
        {
          "output_type": "stream",
          "name": "stdout",
          "text": [
            "[6, 4, 3, 1, 7, 5, 0, 2]\n",
            "[2, 6, 4, 3, 1, 7, 5, 0]\n"
          ]
        }
      ]
    },
    {
      "cell_type": "code",
      "source": [
        "#Exctution Code for 5a\n",
        "#Algorihms and Analysis\n",
        "#Silas Barr 9/28/2025\n",
        "\n",
        "for i in range(2,6):\n",
        "\n",
        "  n = pow(10,i)\n",
        "  U = list(range(n))\n",
        "  random.shuffle(U)\n",
        "\n",
        "\n",
        "\n",
        "  start_time = datetime.datetime.now()\n",
        "\n",
        "  selection(U, False)\n",
        "\n",
        "  end_time = datetime.datetime.now()\n",
        "  elapsed_time = (end_time - start_time).total_seconds()\n",
        "\n",
        "  ave = elapsed_time/(n *n) #to calulate average amount of work compared to n\n",
        "\n",
        "  print(n, elapsed_time,ave )\n",
        "\n",
        "  # Analysis:\n",
        "  # Since this is an algrothm that is O(n^2) we can see it is much slower\n",
        "  # and there is a great in increase in the time taken per magnitiude jump\n",
        "  # but if we assume so load bearing lenecy, we can see the average amount of\n",
        "  # work stays about steady so selection is O(n^2)"
      ],
      "metadata": {
        "colab": {
          "base_uri": "https://localhost:8080/"
        },
        "id": "XDdsFe1O4bqw",
        "outputId": "439eb289-10ec-49f1-a987-0372a171ed2f"
      },
      "execution_count": 16,
      "outputs": [
        {
          "output_type": "stream",
          "name": "stdout",
          "text": [
            "100 0.000189 1.89e-08\n",
            "1000 0.02887 2.887e-08\n",
            "10000 3.469013 3.469013e-08\n",
            "100000 493.094629 4.93094629e-08\n"
          ]
        }
      ]
    },
    {
      "cell_type": "code",
      "source": [
        "#Exctution Code for 5a\n",
        "#Algorihms and Analysis\n",
        "#Silas Barr 9/28/2025\n",
        "\n",
        "for i in range(2,6):\n",
        "\n",
        "  n = pow(10,i)\n",
        "  U = list(range(n))\n",
        "\n",
        "\n",
        "\n",
        "  start_time = datetime.datetime.now()\n",
        "\n",
        "  selection(U, False)\n",
        "\n",
        "  end_time = datetime.datetime.now()\n",
        "  elapsed_time = (end_time - start_time).total_seconds()\n",
        "\n",
        "  ave = elapsed_time/(n *n) #to calulate average amount of work compared to n\n",
        "\n",
        "  print(n, elapsed_time,ave )\n",
        "\n",
        "  # Analysis:\n",
        "  # Since this is an algrothm that is O(n^2) we can see it is much slower\n",
        "  # and there is a great in increase in the time taken per magnitiude jump\n",
        "  # but if we assume so load bearing lenecy, we can see the average amount of\n",
        "  # work stays about steady so selection is O(n^2)"
      ],
      "metadata": {
        "id": "laiR9wgnZiI5",
        "outputId": "43242d8a-060c-49a3-c0c4-61fede9e2425",
        "colab": {
          "base_uri": "https://localhost:8080/"
        }
      },
      "execution_count": 17,
      "outputs": [
        {
          "output_type": "stream",
          "name": "stdout",
          "text": [
            "100 0.000668 6.68e-08\n",
            "1000 0.027425 2.7425000000000002e-08\n",
            "10000 2.619744 2.6197439999999998e-08\n",
            "100000 297.401861 2.97401861e-08\n"
          ]
        }
      ]
    }
  ]
}