{
  "nbformat": 4,
  "nbformat_minor": 0,
  "metadata": {
    "colab": {
      "provenance": [],
      "include_colab_link": true
    },
    "kernelspec": {
      "name": "python3",
      "display_name": "Python 3"
    },
    "language_info": {
      "name": "python"
    }
  },
  "cells": [
    {
      "cell_type": "markdown",
      "metadata": {
        "id": "view-in-github",
        "colab_type": "text"
      },
      "source": [
        "<a href=\"https://colab.research.google.com/github/bksilas/CS315AandA/blob/main/insertionPoC.ipynb\" target=\"_parent\"><img src=\"https://colab.research.google.com/assets/colab-badge.svg\" alt=\"Open In Colab\"/></a>"
      ]
    },
    {
      "cell_type": "code",
      "execution_count": 2,
      "metadata": {
        "id": "tZGwopH4Y7oL"
      },
      "outputs": [],
      "source": [
        "# Template for testing Insertion-Sort on small lists, outputing each intermediate step"
      ]
    },
    {
      "cell_type": "code",
      "source": [
        "import random\n",
        "import datetime\n",
        "N = 8"
      ],
      "metadata": {
        "id": "fSME9MywceAq"
      },
      "execution_count": 3,
      "outputs": []
    },
    {
      "cell_type": "code",
      "source": [
        "def insertion(A,print_flag):\n",
        "\n",
        "  for i in range(1,N):\n",
        "    key = A[i]\n",
        "    j= i-1\n",
        "    while(j > -1 and key < A[j]):\n",
        "      A[j+1] = A[j]\n",
        "      j -=1\n",
        "    A[j+1] = key\n",
        "  if(print_flag):\n",
        "    print(A)\n",
        "\n",
        "\n",
        "\n",
        "\n",
        "\n",
        "\n",
        "\n",
        "\n",
        "# For your convenience, here is the psuedocode from the textbook for Insertion-Sort\n",
        "# You can adapt it for this problem, there aren't many changes required\n",
        "# Note that N is defined in a different execution group and doesn't need to be a parameter\n",
        "# Also, it is nice to have a boolean flag controlling whether the intermediate result is printed\n",
        "# The psuedocode is written to be \"in-place,\" so the input list changes\n",
        "\n",
        "# Insertion-Sort(A,n)\n",
        "# for i=2 to n:\n",
        "#    key = A[i]\n",
        "# insert A[i] into sorted seq A[1]..A[i-1]\n",
        "#    j = i-1\n",
        "#    while j>0 and A[j]>key:\n",
        "#       A[j+1] = A[j]\n",
        "#       j = j-1\n",
        "#    A[j+1] = key"
      ],
      "metadata": {
        "id": "TJZL4jFQZhAp"
      },
      "execution_count": 4,
      "outputs": []
    },
    {
      "cell_type": "code",
      "source": [
        "A = list(range(N))\n",
        "\n",
        "random.shuffle(A)\n",
        "\n",
        "print(A)\n",
        "insertion(A,True)\n",
        "print(A)"
      ],
      "metadata": {
        "colab": {
          "base_uri": "https://localhost:8080/"
        },
        "id": "f1GS3NjwZqmS",
        "outputId": "cb2cd82b-8d98-452a-c91e-5ba26cf440c6"
      },
      "execution_count": 5,
      "outputs": [
        {
          "output_type": "stream",
          "name": "stdout",
          "text": [
            "[7, 1, 2, 0, 6, 5, 3, 4]\n",
            "[0, 1, 2, 3, 4, 5, 6, 7]\n",
            "[0, 1, 2, 3, 4, 5, 6, 7]\n"
          ]
        }
      ]
    },
    {
      "cell_type": "code",
      "source": [
        "#Exctution Code for 5a\n",
        "#Algorihms and Analysis\n",
        "#Silas Barr 9/28/2025\n",
        "\n",
        "for i in range(2,8):\n",
        "\n",
        "  n = pow(10,i)\n",
        "  U = list(range(n))\n",
        "  random.shuffle(U)\n",
        "\n",
        "\n",
        "\n",
        "  start_time = datetime.datetime.now()\n",
        "\n",
        "  insertion(U, False)\n",
        "\n",
        "  end_time = datetime.datetime.now()\n",
        "  elapsed_time = (end_time - start_time).total_seconds()\n",
        "\n",
        "\n",
        "  avetime = elapsed_time/(n*n)\n",
        "  print(n, elapsed_time, avetime)\n",
        "\n",
        "  # I have no clue why the iteration loops seem to be getting even faster when the sample size increase\n",
        "  # I also can not have any array larger than the 10^7\n",
        "  #\n"
      ],
      "metadata": {
        "colab": {
          "base_uri": "https://localhost:8080/"
        },
        "id": "bzlCISHF2KQs",
        "outputId": "0b1f7497-8144-47bf-88a7-cc34e9278b5a"
      },
      "execution_count": 6,
      "outputs": [
        {
          "output_type": "stream",
          "name": "stdout",
          "text": [
            "100 7e-06 7e-10\n",
            "1000 8e-06 8e-12\n",
            "10000 9e-06 9.000000000000001e-14\n",
            "100000 1.5e-05 1.5000000000000001e-15\n",
            "1000000 1.5e-05 1.5e-17\n",
            "10000000 1.6e-05 1.6e-19\n"
          ]
        }
      ]
    },
    {
      "cell_type": "code",
      "source": [
        "#Exctution Code for 5b\n",
        "#Algorihms and Analysis\n",
        "#Silas Barr 9/28/2025\n",
        "\n",
        "for j in range(2,9):\n",
        "\n",
        "  m = pow(10,j)#enables us to increase n by magnitues each iteration\n",
        "  S = list(range(m))\n",
        "\n",
        "\n",
        "\n",
        "  start_time = datetime.datetime.now()\n",
        "\n",
        "  insertion(S,False)\n",
        "\n",
        "  end_time = datetime.datetime.now()\n",
        "  elapsed_time = (end_time - start_time).total_seconds()\n",
        "\n",
        "  print(m,\",\", elapsed_time)\n",
        "\n",
        "# Analysis:\n",
        "# Same issue"
      ],
      "metadata": {
        "id": "Ews5b5LYLsX9",
        "outputId": "97e35116-8dbd-4b9b-ee40-d4dc7999ea18",
        "colab": {
          "base_uri": "https://localhost:8080/"
        }
      },
      "execution_count": 7,
      "outputs": [
        {
          "output_type": "stream",
          "name": "stdout",
          "text": [
            "100 , 6e-06\n",
            "1000 , 3e-06\n",
            "10000 , 2e-06\n",
            "100000 , 0.000281\n",
            "1000000 , 1.2e-05\n",
            "10000000 , 0.000312\n",
            "100000000 , 0.000739\n"
          ]
        }
      ]
    }
  ]
}