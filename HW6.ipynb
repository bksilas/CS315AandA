{
  "nbformat": 4,
  "nbformat_minor": 0,
  "metadata": {
    "colab": {
      "provenance": [],
      "authorship_tag": "ABX9TyPbblr2O13EsVY39RTMMFri",
      "include_colab_link": true
    },
    "kernelspec": {
      "name": "python3",
      "display_name": "Python 3"
    },
    "language_info": {
      "name": "python"
    }
  },
  "cells": [
    {
      "cell_type": "markdown",
      "metadata": {
        "id": "view-in-github",
        "colab_type": "text"
      },
      "source": [
        "<a href=\"https://colab.research.google.com/github/bksilas/CS315AandA/blob/main/HW6.ipynb\" target=\"_parent\"><img src=\"https://colab.research.google.com/assets/colab-badge.svg\" alt=\"Open In Colab\"/></a>"
      ]
    },
    {
      "cell_type": "code",
      "execution_count": 67,
      "metadata": {
        "id": "7GW8jd6kPtK3"
      },
      "outputs": [],
      "source": [
        "import random\n",
        "import datetime"
      ]
    },
    {
      "cell_type": "code",
      "source": [
        "def QuickSelect(A,i):\n",
        "  if(len(A)==1):\n",
        "    return [A[0]]\n",
        "\n",
        "  pivot = random.choice(list(A))\n",
        "  lows = [x for x in A if x < pivot]\n",
        "  highs = [x for x in A if x > pivot]\n",
        "  pivots = [x for x in A if x == pivot]\n",
        "\n",
        "  if i <= len(lows):\n",
        "    return QuickSelect(lows,i)\n",
        "  if i <= len(lows)+ len(pivots):\n",
        "    return QuickSelect(pivots, 1)[0]\n",
        "  else:\n",
        "    return QuickSelect(highs, i - len(lows) - len(pivots))"
      ],
      "metadata": {
        "id": "D1TYGlxGUCQD"
      },
      "execution_count": 68,
      "outputs": []
    },
    {
      "cell_type": "code",
      "source": [
        "A = list(range(1000000))\n",
        "#random.shuffle(S)\n",
        "\n",
        "\n",
        "print(QuickSelect(S,9999))"
      ],
      "metadata": {
        "colab": {
          "base_uri": "https://localhost:8080/"
        },
        "id": "vbepUeqWa84M",
        "outputId": "d3b955a8-4e17-4294-d0ee-5e9d5ffc8abe"
      },
      "execution_count": 69,
      "outputs": [
        {
          "output_type": "stream",
          "name": "stdout",
          "text": [
            "9998\n"
          ]
        }
      ]
    },
    {
      "cell_type": "code",
      "source": [
        "#Exctution Code for 6.2\n",
        "#Algorihms and Analysis\n",
        "#Silas Barr 10/30/2025\n",
        "\n",
        "for j in range(1,8 ):\n",
        "\n",
        "  m = pow(10,j)#enables us to increase n by magnitues each iteration\n",
        "  S = list(range(m))\n",
        "  random.shuffle(S)\n",
        "  reversed(S)\n",
        "\n",
        "\n",
        "  start_time = datetime.datetime.now()\n",
        "\n",
        "  QuickSelect(S,6*(m/10))\n",
        "\n",
        "  end_time = datetime.datetime.now()\n",
        "  elapsed_time = (end_time - start_time).total_seconds()\n",
        "  ratio = elapsed_time/m\n",
        "\n",
        "  print(m,\",\\t\\t\", elapsed_time,\"\\t\\t\", ratio)\n",
        "  #As far as I can tell there doesn't seem to be a worst case, there just seems\n",
        "  #to be times when it runs slower due to bad pivots\n"
      ],
      "metadata": {
        "colab": {
          "base_uri": "https://localhost:8080/"
        },
        "id": "hRMKo70AVuVK",
        "outputId": "8e0505b2-2574-4c73-c9c9-fc1443d0698b"
      },
      "execution_count": 70,
      "outputs": [
        {
          "output_type": "stream",
          "name": "stdout",
          "text": [
            "10 ,\t\t 3.5e-05 \t\t 3.4999999999999995e-06\n",
            "100 ,\t\t 6e-05 \t\t 6e-07\n",
            "1000 ,\t\t 0.000514 \t\t 5.140000000000001e-07\n",
            "10000 ,\t\t 0.004011 \t\t 4.0109999999999996e-07\n",
            "100000 ,\t\t 0.041978 \t\t 4.1978e-07\n",
            "1000000 ,\t\t 0.843264 \t\t 8.43264e-07\n",
            "10000000 ,\t\t 16.098959 \t\t 1.6098959e-06\n"
          ]
        }
      ]
    }
  ]
}