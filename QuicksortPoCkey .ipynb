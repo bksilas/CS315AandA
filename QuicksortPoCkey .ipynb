{
  "nbformat": 4,
  "nbformat_minor": 0,
  "metadata": {
    "colab": {
      "provenance": [],
      "include_colab_link": true
    },
    "kernelspec": {
      "name": "python3",
      "display_name": "Python 3"
    },
    "language_info": {
      "name": "python"
    }
  },
  "cells": [
    {
      "cell_type": "markdown",
      "metadata": {
        "id": "view-in-github",
        "colab_type": "text"
      },
      "source": [
        "<a href=\"https://colab.research.google.com/github/bksilas/CS315AandA/blob/main/QuicksortPoCkey%20.ipynb\" target=\"_parent\"><img src=\"https://colab.research.google.com/assets/colab-badge.svg\" alt=\"Open In Colab\"/></a>"
      ]
    },
    {
      "cell_type": "code",
      "execution_count": 52,
      "metadata": {
        "id": "t_LwP80OmwFK"
      },
      "outputs": [],
      "source": [
        "# Template for testing Quick-Sort on small lists, outputing each intermediate step"
      ]
    },
    {
      "cell_type": "code",
      "source": [
        "import random\n",
        "import datetime\n",
        "import math"
      ],
      "metadata": {
        "id": "LMcLd_etm-0Y"
      },
      "execution_count": 53,
      "outputs": []
    },
    {
      "cell_type": "code",
      "source": [
        "# Partition provided as a convenience\n",
        "\n",
        "#Best of three Moditfication\n",
        "def PartitionBetter(A,p,r):\n",
        "  t = math.floor((p+r)/2)\n",
        "  if(A[p] > A[t] and A[t] > A[r] or A[p] < A[t] and A[t] < A[r]):\n",
        "    Swap(A,t,r)\n",
        "  if(A[p] > A[t] and A[r] > A[p] or A[p] < A[t] and A[r] < A[p]):\n",
        "    Swap(A,p,r)\n",
        "  x = A[r]\n",
        "  i = p - 1\n",
        "  for j in range(p,r):\n",
        "      if ( A[j] <= x ):\n",
        "          i = i + 1\n",
        "          #swap A[i] <--> A[j]\n",
        "          Swap(A, i,j)\n",
        "  #swap A[i+1] <--> A[r]\n",
        "  Swap(A,i+1,r)\n",
        "\n",
        "  return i + 1\n",
        "\n",
        "\n",
        "\n",
        "\n",
        "def Partition(A,p,r):\n",
        "    x = A[r]\n",
        "    i = p - 1\n",
        "    for j in range(p,r):\n",
        "        if ( A[j] <= x ):\n",
        "            i = i + 1\n",
        "            #swap A[i] <--> A[j]\n",
        "            temp=A[i]\n",
        "            A[i]=A[j]\n",
        "            A[j]=temp\n",
        "    #swap A[i+1] <--> A[r]\n",
        "    Swap(A,i+1,r)\n",
        "\n",
        "    return i + 1\n",
        "\n",
        "\n",
        "def Swap(A,i,r):\n",
        "  temp=A[i]\n",
        "  A[i]=A[r]\n",
        "  A[r]=temp\n"
      ],
      "metadata": {
        "id": "TyWIYm1_nIYR"
      },
      "execution_count": 59,
      "outputs": []
    },
    {
      "cell_type": "code",
      "source": [
        "def Quicksort(A,p,r,print_flag):\n",
        "    if p < r:\n",
        "        q  = Partition(A , p , r)\n",
        "        if print_flag:\n",
        "            print(A)\n",
        "        Quicksort(A , p , q-1,print_flag)\n",
        "        Quicksort(A , q+1 , r,print_flag)\n",
        "\n",
        "def QuicksortBetter(A,p,r,print_flag):\n",
        "    if p < r:\n",
        "        q  = PartitionBetter(A , p , r)\n",
        "        if print_flag:\n",
        "            print(A)\n",
        "        QuicksortBetter(A , p , q-1,print_flag)\n",
        "        QuicksortBetter(A , q+1 , r,print_flag)\n",
        "\n",
        "def QuicksortBetterBetter(A,p,r,print_flag):\n",
        "    while(p < r):\n",
        "        q  = PartitionBetter(A , p , r)\n",
        "        if print_flag:\n",
        "            print(A)\n",
        "        QuicksortBetterBetter(A , p , q-1,print_flag)\n",
        "        p = q+1"
      ],
      "metadata": {
        "id": "neX-YNcPnLpk"
      },
      "execution_count": 60,
      "outputs": []
    },
    {
      "cell_type": "code",
      "source": [
        "N=8\n",
        "A = list(range(N))\n",
        "\n",
        "random.shuffle(A)\n",
        "\n",
        "print(A)\n",
        "QuicksortBetterBetter(A,0,N-1,False)\n",
        "print(A)"
      ],
      "metadata": {
        "colab": {
          "base_uri": "https://localhost:8080/"
        },
        "id": "RVXFjLS0nCeo",
        "outputId": "9ccb89d7-33d8-4144-ab81-d0ff53a7be85"
      },
      "execution_count": 61,
      "outputs": [
        {
          "output_type": "stream",
          "name": "stdout",
          "text": [
            "[2, 3, 6, 5, 4, 0, 1, 7]\n",
            "[0, 1, 2, 3, 4, 5, 6, 7]\n"
          ]
        }
      ]
    },
    {
      "cell_type": "code",
      "source": [
        "#Exctution Code for 5a\n",
        "#Algorihms and Analysis\n",
        "#Silas Barr 9/28/2025\n",
        "\n",
        "for i in range(2,8):\n",
        "\n",
        "  n = pow(10,i)#enables us to increase n by magnitues each iteration\n",
        "  U = list(range(n))\n",
        "  random.shuffle(U)\n",
        "\n",
        "\n",
        "\n",
        "  start_time = datetime.datetime.now()\n",
        "\n",
        "  QuicksortBetterBetter(U,0,n-1, False)\n",
        "\n",
        "  end_time = datetime.datetime.now()\n",
        "  elapsed_time = (end_time - start_time).total_seconds()\n",
        "\n",
        "  print(n,\",\", elapsed_time)\n",
        "\n",
        "# Analysis:\n",
        "# using the runing_time/(n*(log(n)/log(2)))\n",
        "# I got around 0.0000001890622684 for each case\n",
        "# Which proves that this quicksort is O(n lg n)"
      ],
      "metadata": {
        "colab": {
          "base_uri": "https://localhost:8080/"
        },
        "id": "YzeaDqdf31so",
        "outputId": "ada4858f-81f3-4ccd-9dce-d87560128b95"
      },
      "execution_count": 62,
      "outputs": [
        {
          "output_type": "stream",
          "name": "stdout",
          "text": [
            "100 , 0.000148\n",
            "1000 , 0.002355\n",
            "10000 , 0.018838\n",
            "100000 , 0.262037\n",
            "1000000 , 3.488366\n",
            "10000000 , 51.534244\n"
          ]
        }
      ]
    },
    {
      "cell_type": "code",
      "source": [
        "#Exctution Code for 5b\n",
        "#Algorihms and Analysis\n",
        "#Silas Barr 9/28/2025\n",
        "\n",
        "for j in range(2,8):\n",
        "\n",
        "  m = pow(10,j)#enables us to increase n by magnitues each iteration\n",
        "  S = list(range(m))\n",
        "\n",
        "\n",
        "\n",
        "  start_time = datetime.datetime.now()\n",
        "\n",
        "  QuicksortBetterBetter(S,0,m-1, False)\n",
        "\n",
        "  end_time = datetime.datetime.now()\n",
        "  elapsed_time = (end_time - start_time).total_seconds()\n",
        "\n",
        "  aveElapse = elapsed_time/m\n",
        "\n",
        "  print(m,\",\", elapsed_time, aveElapse)\n",
        "\n",
        "# Analysis:\n",
        "# This is way less efficent because i kept hitting\n",
        "# the recusionn depth error with a sample size of greater than 10^2\n",
        "# and even that was slower than unsorted data"
      ],
      "metadata": {
        "id": "6eZ7kYN7_jSt",
        "outputId": "f5e82028-654e-43cf-ef32-07c316e96049",
        "colab": {
          "base_uri": "https://localhost:8080/"
        }
      },
      "execution_count": 58,
      "outputs": [
        {
          "output_type": "stream",
          "name": "stdout",
          "text": [
            "100 , 0.000759 7.59e-06\n",
            "1000 , 0.001415 1.415e-06\n",
            "10000 , 0.012618 1.2618000000000001e-06\n",
            "100000 , 0.160313 1.6031300000000001e-06\n",
            "1000000 , 1.720805 1.7208049999999998e-06\n",
            "10000000 , 22.039635 2.2039635e-06\n"
          ]
        }
      ]
    }
  ]
}