{
  "nbformat": 4,
  "nbformat_minor": 0,
  "metadata": {
    "colab": {
      "provenance": [],
      "include_colab_link": true
    },
    "kernelspec": {
      "name": "python3",
      "display_name": "Python 3"
    },
    "language_info": {
      "name": "python"
    }
  },
  "cells": [
    {
      "cell_type": "markdown",
      "metadata": {
        "id": "view-in-github",
        "colab_type": "text"
      },
      "source": [
        "<a href=\"https://colab.research.google.com/github/bksilas/CS315AandA/blob/main/QuicksortPoCkey%20.ipynb\" target=\"_parent\"><img src=\"https://colab.research.google.com/assets/colab-badge.svg\" alt=\"Open In Colab\"/></a>"
      ]
    },
    {
      "cell_type": "code",
      "execution_count": 37,
      "metadata": {
        "id": "t_LwP80OmwFK"
      },
      "outputs": [],
      "source": [
        "# Template for testing Quick-Sort on small lists, outputing each intermediate step"
      ]
    },
    {
      "cell_type": "code",
      "source": [
        "import random\n",
        "import datetime"
      ],
      "metadata": {
        "id": "LMcLd_etm-0Y"
      },
      "execution_count": 38,
      "outputs": []
    },
    {
      "cell_type": "code",
      "source": [
        "# Partition provided as a convenience\n",
        "\n",
        "def Partition(A,p,r):\n",
        "    x = A[r]\n",
        "    i = p - 1\n",
        "    for j in range(p,r):\n",
        "        if ( A[j] <= x ):\n",
        "            i = i + 1\n",
        "            #swap A[i] <--> A[j]\n",
        "            temp=A[i]\n",
        "            A[i]=A[j]\n",
        "            A[j]=temp\n",
        "    #swap A[i+1] <--> A[r]\n",
        "    temp=A[i+1]\n",
        "    A[i+1]=A[r]\n",
        "    A[r]=temp\n",
        "\n",
        "    return i + 1"
      ],
      "metadata": {
        "id": "TyWIYm1_nIYR"
      },
      "execution_count": 39,
      "outputs": []
    },
    {
      "cell_type": "code",
      "source": [
        "def Quicksort(A,p,r,print_flag):\n",
        "    if p < r:\n",
        "        q  = Partition(A , p , r)\n",
        "        if print_flag:\n",
        "            print(A)\n",
        "        Quicksort(A , p , q-1,print_flag)\n",
        "        Quicksort(A , q+1 , r,print_flag)"
      ],
      "metadata": {
        "id": "neX-YNcPnLpk"
      },
      "execution_count": 40,
      "outputs": []
    },
    {
      "cell_type": "code",
      "source": [
        "N=8\n",
        "A = list(range(N))\n",
        "\n",
        "random.shuffle(A)\n",
        "\n",
        "print(A)\n",
        "Quicksort(A,0,N-1,True)\n",
        "print(A)"
      ],
      "metadata": {
        "colab": {
          "base_uri": "https://localhost:8080/"
        },
        "id": "RVXFjLS0nCeo",
        "outputId": "8b449799-bc58-4bd2-d4a4-ce6757349779"
      },
      "execution_count": 41,
      "outputs": [
        {
          "output_type": "stream",
          "name": "stdout",
          "text": [
            "[1, 7, 3, 2, 0, 5, 6, 4]\n",
            "[1, 3, 2, 0, 4, 5, 6, 7]\n",
            "[0, 3, 2, 1, 4, 5, 6, 7]\n",
            "[0, 1, 2, 3, 4, 5, 6, 7]\n",
            "[0, 1, 2, 3, 4, 5, 6, 7]\n",
            "[0, 1, 2, 3, 4, 5, 6, 7]\n",
            "[0, 1, 2, 3, 4, 5, 6, 7]\n",
            "[0, 1, 2, 3, 4, 5, 6, 7]\n"
          ]
        }
      ]
    },
    {
      "cell_type": "code",
      "source": [
        "#Exctution Code for 5a\n",
        "#Algorihms and Analysis\n",
        "#Silas Barr 9/28/2025\n",
        "\n",
        "for i in range(2,8):\n",
        "\n",
        "  n = pow(10,i)#enables us to increase n by magnitues each iteration\n",
        "  U = list(range(n))\n",
        "  random.shuffle(U)\n",
        "\n",
        "\n",
        "\n",
        "  start_time = datetime.datetime.now()\n",
        "\n",
        "  Quicksort(U,0,n-1, False)\n",
        "\n",
        "  end_time = datetime.datetime.now()\n",
        "  elapsed_time = (end_time - start_time).total_seconds()\n",
        "\n",
        "  print(n,\",\", elapsed_time)\n",
        "\n",
        "# Analysis:\n",
        "# using the runing_time/(n*(log(n)/log(2)))\n",
        "# I got around 0.0000001890622684 for each case\n",
        "# Which proves that this quicksort is O(n lg n)"
      ],
      "metadata": {
        "colab": {
          "base_uri": "https://localhost:8080/"
        },
        "id": "YzeaDqdf31so",
        "outputId": "e7216081-0082-4838-aa7f-49d1899916ac"
      },
      "execution_count": 42,
      "outputs": [
        {
          "output_type": "stream",
          "name": "stdout",
          "text": [
            "100 , 0.000107\n",
            "1000 , 0.001677\n",
            "10000 , 0.01958\n",
            "100000 , 0.208299\n",
            "1000000 , 3.016597\n",
            "10000000 , 46.322782\n"
          ]
        }
      ]
    },
    {
      "cell_type": "code",
      "source": [
        "#Exctution Code for 5b\n",
        "#Algorihms and Analysis\n",
        "#Silas Barr 9/28/2025\n",
        "\n",
        "for j in range(2,3):\n",
        "\n",
        "  m = pow(10,j)#enables us to increase n by magnitues each iteration\n",
        "  S = list(range(m))\n",
        "\n",
        "\n",
        "\n",
        "  start_time = datetime.datetime.now()\n",
        "\n",
        "  Quicksort(S,0,m-1, False)\n",
        "\n",
        "  end_time = datetime.datetime.now()\n",
        "  elapsed_time = (end_time - start_time).total_seconds()\n",
        "\n",
        "  print(m,\",\", elapsed_time)\n",
        "\n",
        "# Analysis:\n",
        "# This is way less efficent because i kept hitting\n",
        "# the recusionn depth error with a sample size of greater than 10^2\n",
        "# and even that was slower than unsorted data"
      ],
      "metadata": {
        "id": "6eZ7kYN7_jSt",
        "outputId": "71194e1d-0e62-4686-bdbf-d48cc64a3fcc",
        "colab": {
          "base_uri": "https://localhost:8080/"
        }
      },
      "execution_count": 49,
      "outputs": [
        {
          "output_type": "stream",
          "name": "stdout",
          "text": [
            "100 , 0.000468\n"
          ]
        }
      ]
    }
  ]
}