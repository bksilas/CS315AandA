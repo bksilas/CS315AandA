{
  "nbformat": 4,
  "nbformat_minor": 0,
  "metadata": {
    "colab": {
      "provenance": []
    },
    "kernelspec": {
      "name": "python3",
      "display_name": "Python 3"
    },
    "language_info": {
      "name": "python"
    }
  },
  "cells": [
    {
      "cell_type": "code",
      "execution_count": 2,
      "metadata": {
        "id": "9ByqdPZlleZJ"
      },
      "outputs": [],
      "source": [
        "import random\n",
        "import datetime"
      ]
    },
    {
      "cell_type": "code",
      "execution_count": 3,
      "metadata": {
        "colab": {
          "base_uri": "https://localhost:8080/"
        },
        "outputId": "2144a387-ca16-4256-816a-619c95256143",
        "id": "XKe4KcJEl6r1"
      },
      "outputs": [
        {
          "output_type": "stream",
          "name": "stdout",
          "text": [
            "100 1.2e-05 1.8061799739838875e-08\n",
            "1000 0.000132 1.3245319809215172e-08\n",
            "10000 0.002267 1.7060875004256135e-08\n",
            "100000 0.027838 1.676014603858782e-08\n",
            "1000000 0.497286 2.4949667070626426e-08\n",
            "10000000 8.868525 3.813845774708441e-08\n"
          ]
        }
      ],
      "source": [
        "from math import log2\n",
        "#Exctution Code for 6\n",
        "#Algorihms and Analysis\n",
        "#Silas Barr 9/28/2025\n",
        "\n",
        "for i in range(2,8):\n",
        "\n",
        "  n = pow(10,i)\n",
        "  U = list(range(n))\n",
        "  random.shuffle(U)\n",
        "\n",
        "\n",
        "\n",
        "  start_time = datetime.datetime.now()\n",
        "\n",
        "  U.sort()\n",
        "\n",
        "  end_time = datetime.datetime.now()\n",
        "  elapsed_time = (end_time - start_time).total_seconds()\n",
        "\n",
        "  ave = elapsed_time/(n*(log2(n)))\n",
        "\n",
        "  print(n, elapsed_time,ave )\n",
        "\n",
        "  # Analysis\n",
        "  # I see that the sort function of an array in python is very fast\n",
        "  # in fact if we evaluate the amount of work through the ratio test we can see\n",
        "  # it is O(n lg n) this makes sense due to the fact that there is not any algorithm\n",
        "  # that has been found to be faster"
      ]
    },
    {
      "cell_type": "code",
      "source": [
        "#Exctution Code for 6\n",
        "#Algorihms and Analysis\n",
        "#Silas Barr 9/28/2025\n",
        "\n",
        "for i in range(2,8):\n",
        "\n",
        "  n = pow(10,i)\n",
        "  U = list(range(n))\n",
        "  random.shuffle(U)\n",
        "\n",
        "\n",
        "\n",
        "  start_time = datetime.datetime.now()\n",
        "\n",
        "  sorted(U)\n",
        "\n",
        "  end_time = datetime.datetime.now()\n",
        "  elapsed_time = (end_time - start_time).total_seconds()\n",
        "\n",
        "  ave = elapsed_time/(n*(log2(n)))\n",
        "\n",
        "  print(n, elapsed_time,ave )"
      ],
      "metadata": {
        "colab": {
          "base_uri": "https://localhost:8080/"
        },
        "id": "nRucfxBkmOqE",
        "outputId": "62742bc9-572a-414c-a708-1d87abf8791a"
      },
      "execution_count": 4,
      "outputs": [
        {
          "output_type": "stream",
          "name": "stdout",
          "text": [
            "100 2e-05 3.0102999566398125e-08\n",
            "1000 0.000133 1.3345663141103166e-08\n",
            "10000 0.0019 1.4298924794039107e-08\n",
            "100000 0.025651 1.5443440837553563e-08\n",
            "1000000 0.610205 3.061500141735661e-08\n",
            "10000000 9.008803 3.8741713257538013e-08\n"
          ]
        }
      ]
    }
  ]
}